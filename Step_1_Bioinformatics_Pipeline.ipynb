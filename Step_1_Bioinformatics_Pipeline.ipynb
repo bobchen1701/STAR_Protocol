{
 "cells": [
  {
   "cell_type": "markdown",
   "metadata": {},
   "source": [
    "## __Step 1:__ Library alignment and droplet count estimation with R"
   ]
  },
  {
   "cell_type": "markdown",
   "metadata": {},
   "source": [
    "The goal of Step 1 is to set up the containerized environment for running the DropEst pipeline, running the the process of barcode demultiplexing, read alignment, and droplet count estimation. The inputs to this step are the raw sequencing files and the outputs to this step are an estimated droplet read count matrix and its corresponding quality control reports."
   ]
  },
  {
   "cell_type": "markdown",
   "metadata": {},
   "source": [
    "---\n",
    "### __1.0__ Before You Begin"
   ]
  },
  {
   "cell_type": "markdown",
   "metadata": {},
   "source": [
    "This protocol requires three types of input files, which will have to be in an accessible directory:\n",
    "    \n",
    "    - A primary assembly .fa file corresponding to the reference genome for read alignment. Here we use release 85 of the Ensembl human reference genome.\n",
    "        - i.e.: Homo_sapiens.GRCh38.dna_sm.primary_assembly.fa\n",
    "    - A gene annotation file corresponding to the same reference genome and release version\n",
    "        - i.e.: Homo_sapiens.GRCh38.85.annotated.gtf\n",
    "    - Two .fastq files, corresponding to the paired R1 and R2 sequencing reads of the target sequenced single-cell RNA-seq library\n",
    "        - i.e.: 3907-AS-1-CCGCGGTT-AGCGCTAG_S343_sub_R1_001.fastq and 3907-AS-1-CCGCGGTT-AGCGCTAG_S343_sub_R2_001.fastq"
   ]
  },
  {
   "cell_type": "markdown",
   "metadata": {},
   "source": [
    "---\n",
    "### __1.1__ Singularity Installation"
   ]
  },
  {
   "cell_type": "markdown",
   "metadata": {},
   "source": [
    "To use the provided containerized environment, we need to install the required golang libraries and Singularity itself. For Ubuntu, a Debian-based linux distribution, we first update our software libraries through apt-get"
   ]
  },
  {
   "cell_type": "code",
   "execution_count": null,
   "metadata": {},
   "outputs": [],
   "source": [
    "!sudo apt-get update && sudo apt-get install -y \\\n",
    "    build-essential \\\n",
    "    libssl-dev \\\n",
    "    uuid-dev \\\n",
    "    libgpgme11-dev \\\n",
    "    squashfs-tools \\\n",
    "    libseccomp-dev \\\n",
    "    pkg-config"
   ]
  },
  {
   "cell_type": "markdown",
   "metadata": {},
   "source": [
    "Next install golang, by obtaining the installation files, extracting them, and updating paths for usage. In this case version 1.15.6 is used. Further instructions can be found at: https://golang.org/doc/install"
   ]
  },
  {
   "cell_type": "code",
   "execution_count": null,
   "metadata": {},
   "outputs": [],
   "source": [
    "#Download to current directory\n",
    "!wget https://dl.google.com/go/go1.15.6.linux-amd64.tar.gz"
   ]
  },
  {
   "cell_type": "code",
   "execution_count": null,
   "metadata": {},
   "outputs": [],
   "source": [
    "#Extract files to local directory\n",
    "!sudo tar -C /usr/local -xzf go1.15.6.linux-amd64.tar.gz"
   ]
  },
  {
   "cell_type": "code",
   "execution_count": null,
   "metadata": {},
   "outputs": [],
   "source": [
    "#Update path\n",
    "!export PATH=$PATH:/usr/local/go/bin"
   ]
  },
  {
   "cell_type": "code",
   "execution_count": null,
   "metadata": {},
   "outputs": [],
   "source": [
    "#Double check installation by checking go version\n",
    "!go version"
   ]
  },
  {
   "cell_type": "markdown",
   "metadata": {},
   "source": [
    "Now we can install Singularity from a release, in this case version 3.7.0 is used. Further instructions can be found at: https://sylabs.io/guides/3.0/user-guide/installation.html#download-and-install-singularity-from-a-release"
   ]
  },
  {
   "cell_type": "code",
   "execution_count": null,
   "metadata": {},
   "outputs": [],
   "source": [
    "#Download and extract the necessary Singularity libraries\n",
    "!export VERSION=3.7.0 && # adjust this as necessary \\\n",
    "    mkdir -p $GOPATH/src/github.com/sylabs && \\\n",
    "    cd $GOPATH/src/github.com/sylabs && \\\n",
    "    wget https://github.com/sylabs/singularity/releases/download/v${VERSION}/singularity-${VERSION}.tar.gz && \\\n",
    "    tar -xzf singularity-${VERSION}.tar.gz && \\\n",
    "    cd ./singularity && \\\n",
    "    ./mconfig"
   ]
  },
  {
   "cell_type": "code",
   "execution_count": null,
   "metadata": {},
   "outputs": [],
   "source": [
    "#Navigate to the installation directory and compile\n",
    "!cd /home/$USER/go/src/github.com/sylabs/singularity/builddir && \\\n",
    "    make && \\\n",
    "    sudo make install"
   ]
  },
  {
   "cell_type": "markdown",
   "metadata": {},
   "source": [
    "Finally, pull the Singularity image from dockerhub, this may take a while depending on download speeds. This container comes preconfigured with DropEst, STAR, and scRNABatchQC, along with their supporting libraries."
   ]
  },
  {
   "cell_type": "code",
   "execution_count": null,
   "metadata": {},
   "outputs": [],
   "source": [
    "!singularity pull docker://ramiremars/star_dropest:star_protocols_pipeline"
   ]
  },
  {
   "cell_type": "markdown",
   "metadata": {},
   "source": [
    "---\n",
    "### __1.2__ Runing DropTag"
   ]
  },
  {
   "cell_type": "markdown",
   "metadata": {},
   "source": [
    "DropTag is first run to demultiplex the .fastq read files. This is the first step of the DropEst pipeline, and further documentation can be found at: https://github.com/hms-dbmi/dropEst"
   ]
  },
  {
   "cell_type": "code",
   "execution_count": null,
   "metadata": {},
   "outputs": [],
   "source": [
    "!singularity exec -e star_dropest_star_protocols_pipeline.sif droptag -c /usr/share/dropEst/configs/indrop_v1_2.xml \\\n",
    "    /path_to/3907-AS-1-CCGCGGTT-AGCGCTAG_S343_sub_R1_001.fastq /path_to/3907-AS-1-CCGCGGTT-AGCGCTAG_S343_sub_R2_001.fastq"
   ]
  },
  {
   "cell_type": "markdown",
   "metadata": {},
   "source": [
    "---\n",
    "### __1.3__ Generating the STAR index"
   ]
  },
  {
   "cell_type": "markdown",
   "metadata": {},
   "source": [
    "The STAR aligner used for read alignment requires an index file to be generated, we generate it with the following command, which creates a directory to operate within. Further documentation can be found at: https://github.com/alexdobin/STAR"
   ]
  },
  {
   "cell_type": "code",
   "execution_count": null,
   "metadata": {},
   "outputs": [],
   "source": [
    "!mkdir STAR_index && singularity exec -e star_dropest_star_protocols_pipeline.sif STAR --runThreadN 16 --runMode genomeGenerate \\\n",
    "    --genomeDir STAR_index --genomeFastaFiles /path_to/Homo_sapiens.GRCh38.dna_sm.primary_assembly.fa --sjdbGTFfile /path_to/Homo_sapiens.GRCh38.85.annotated.gtf --sjdbOverhang 99\n"
   ]
  },
  {
   "cell_type": "markdown",
   "metadata": {},
   "source": [
    "---\n",
    "### __1.4__ Read alignment with the STAR aligner"
   ]
  },
  {
   "cell_type": "markdown",
   "metadata": {},
   "source": [
    "STAR aligner is a splice-aware aligner which we use to align sequenced reads to the reference genome. In this example, there is only one tagged fastq file, this number will increase with read depth, the --readFilesIn parameter will need to be adjusted accordingly to include all such tagged fastq files."
   ]
  },
  {
   "cell_type": "code",
   "execution_count": null,
   "metadata": {},
   "outputs": [],
   "source": [
    "!singularity exec -e star_dropest_star_protocols_pipeline.sif STAR --genomeDir /path_to/STAR_index \\\n",
    "    --readFilesIn /path_to/3907-AS-1-CCGCGGTT-AGCGCTAG_S343_sub_R2_001.fastq.tagged.1.fastq.gz  --outSAMmultNmax 1 --runThreadN 6 --readNameSeparator space --outSAMunmapped Within --outSAMtype BAM SortedByCoordinate --outFileNamePrefix 3907-AS-1-CCGCGGTT-AGCGCTAG_S343_sub  --readFilesCommand gunzip -c\n"
   ]
  },
  {
   "cell_type": "markdown",
   "metadata": {},
   "source": [
    "---\n",
    "### __1.5__ Droplet count estimation with DropEst"
   ]
  },
  {
   "cell_type": "markdown",
   "metadata": {},
   "source": [
    "STAR aligner is a splice-aware aligner which we use to align sequenced reads to the reference genome. This step may take several hours depending on the read depth of the library."
   ]
  },
  {
   "cell_type": "code",
   "execution_count": null,
   "metadata": {},
   "outputs": [],
   "source": [
    "!singularity exec -e star_dropest_star_protocols_pipeline.sif dropest -m -V -b -F -o sample_name -g /path_to/Homo_sapiens.GRCh38.85.annotated.gtf -L eiEIBA -c /usr/share/dropEst/configs/indrop_v1_2.xml /path_to/3907-AS-1-CCGCGGTT-AGCGCTAG_S343_subAligned.sortedByCoord.out.bam"
   ]
  },
  {
   "cell_type": "markdown",
   "metadata": {},
   "source": [
    "---\n",
    "### __1.6__ RDS conversion to sparse droplet count matrix"
   ]
  },
  {
   "cell_type": "markdown",
   "metadata": {},
   "source": [
    "The output of DropEst used in this step contains the droplet matrix that will go into downstream scRNA-seq analyses and further droplet matrix quality control. Our script, RDS_to_sparsematrix.r generates a .mtx along with its corresponding column and row names so that analysis can be performed in non-R environments."
   ]
  },
  {
   "cell_type": "code",
   "execution_count": null,
   "metadata": {},
   "outputs": [],
   "source": [
    "!singularity exec -e star_dropest_star_protocols_pipeline.sif  R --vanilla --slave -f /R_scripts/RDS_to_sparesematrix.r --args /path_to/dropEst.rds"
   ]
  },
  {
   "cell_type": "markdown",
   "metadata": {},
   "source": [
    "---\n",
    "### __1.7__ scRNABatchQC report generation"
   ]
  },
  {
   "cell_type": "markdown",
   "metadata": {},
   "source": [
    "Finally, initial droplet estimation QC metrics can be generated from the output R file from step 1.5. Further documentation can be found at: https://github.com/liuqivandy/scRNABatchQC"
   ]
  },
  {
   "cell_type": "code",
   "execution_count": null,
   "metadata": {},
   "outputs": [],
   "source": [
    "!singularity exec -e star_dropest_star_protocols_pipeline.sif R --vanilla --slave -f /R_scripts/scRNABatchQC.r --args hsapiens /path_to/sample.csv"
   ]
  }
 ],
 "metadata": {
  "kernelspec": {
   "display_name": "Python 3",
   "language": "python",
   "name": "python3"
  },
  "language_info": {
   "codemirror_mode": {
    "name": "ipython",
    "version": 3
   },
   "file_extension": ".py",
   "mimetype": "text/x-python",
   "name": "python",
   "nbconvert_exporter": "python",
   "pygments_lexer": "ipython3",
   "version": "3.8.5"
  }
 },
 "nbformat": 4,
 "nbformat_minor": 4
}
